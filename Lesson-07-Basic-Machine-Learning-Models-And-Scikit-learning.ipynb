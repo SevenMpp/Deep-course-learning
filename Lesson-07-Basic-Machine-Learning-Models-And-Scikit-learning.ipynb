{
 "cells": [
  {
   "cell_type": "code",
   "execution_count": 12,
   "metadata": {},
   "outputs": [],
   "source": [
    "fname = r'F:\\sqlResult.csv'   # fname 经过处理得到<seg_word, source>, 其中，seg_word是分词并去除停用词的文章内容，source是0或者1"
   ]
  },
  {
   "cell_type": "code",
   "execution_count": 13,
   "metadata": {},
   "outputs": [],
   "source": [
    "import pandas as pd"
   ]
  },
  {
   "cell_type": "code",
   "execution_count": 14,
   "metadata": {},
   "outputs": [],
   "source": [
    "df = pd.read_csv(fname, encoding='gb18030')"
   ]
  },
  {
   "cell_type": "code",
   "execution_count": 15,
   "metadata": {},
   "outputs": [
    {
     "data": {
      "text/html": [
       "<div>\n",
       "<style scoped>\n",
       "    .dataframe tbody tr th:only-of-type {\n",
       "        vertical-align: middle;\n",
       "    }\n",
       "\n",
       "    .dataframe tbody tr th {\n",
       "        vertical-align: top;\n",
       "    }\n",
       "\n",
       "    .dataframe thead th {\n",
       "        text-align: right;\n",
       "    }\n",
       "</style>\n",
       "<table border=\"1\" class=\"dataframe\">\n",
       "  <thead>\n",
       "    <tr style=\"text-align: right;\">\n",
       "      <th></th>\n",
       "      <th>Unnamed: 0</th>\n",
       "      <th>id</th>\n",
       "      <th>author</th>\n",
       "      <th>source</th>\n",
       "      <th>content</th>\n",
       "      <th>feature</th>\n",
       "      <th>title</th>\n",
       "      <th>url</th>\n",
       "      <th>seg_word</th>\n",
       "    </tr>\n",
       "  </thead>\n",
       "  <tbody>\n",
       "    <tr>\n",
       "      <th>0</th>\n",
       "      <td>0</td>\n",
       "      <td>89617</td>\n",
       "      <td>NaN</td>\n",
       "      <td>0</td>\n",
       "      <td>此外，自本周（6月12日）起，除小米手机6等15款机型外，其余机型已暂停更新发布（含开发版/...</td>\n",
       "      <td>{\"type\":\"科技\",\"site\":\"cnbeta\",\"commentNum\":\"37\"...</td>\n",
       "      <td>小米MIUI 9首批机型曝光：共计15款</td>\n",
       "      <td>http://www.cnbeta.com/articles/tech/623597.htm</td>\n",
       "      <td>本周 月 12 日 小米 手机 15 款 机型 外 机型 暂停 更新 发布 含 开发 版 体...</td>\n",
       "    </tr>\n",
       "    <tr>\n",
       "      <th>1</th>\n",
       "      <td>1</td>\n",
       "      <td>89616</td>\n",
       "      <td>NaN</td>\n",
       "      <td>0</td>\n",
       "      <td>骁龙835作为唯一通过Windows 10桌面平台认证的ARM处理器，高通强调，不会因为只考...</td>\n",
       "      <td>{\"type\":\"科技\",\"site\":\"cnbeta\",\"commentNum\":\"15\"...</td>\n",
       "      <td>骁龙835在Windows 10上的性能表现有望改善</td>\n",
       "      <td>http://www.cnbeta.com/articles/tech/623599.htm</td>\n",
       "      <td>骁龙 835 唯一 Windows 10 桌面 平台 认证 ARM 处理器 高通 性能 屏蔽...</td>\n",
       "    </tr>\n",
       "    <tr>\n",
       "      <th>2</th>\n",
       "      <td>2</td>\n",
       "      <td>89615</td>\n",
       "      <td>NaN</td>\n",
       "      <td>0</td>\n",
       "      <td>此前的一加3T搭载的是3400mAh电池，DashCharge快充规格为5V/4A。\\r\\n...</td>\n",
       "      <td>{\"type\":\"科技\",\"site\":\"cnbeta\",\"commentNum\":\"18\"...</td>\n",
       "      <td>一加手机5细节曝光：3300mAh、充半小时用1天</td>\n",
       "      <td>http://www.cnbeta.com/articles/tech/623601.htm</td>\n",
       "      <td>此前 一加 3T 搭载 3400mAh 电池 DashCharge 快充 规格 5V 4A ...</td>\n",
       "    </tr>\n",
       "    <tr>\n",
       "      <th>3</th>\n",
       "      <td>3</td>\n",
       "      <td>89614</td>\n",
       "      <td>NaN</td>\n",
       "      <td>1</td>\n",
       "      <td>这是6月18日在葡萄牙中部大佩德罗冈地区拍摄的被森林大火烧毁的汽车。新华社记者张立云摄\\r\\n</td>\n",
       "      <td>{\"type\":\"国际新闻\",\"site\":\"环球\",\"commentNum\":\"0\",\"j...</td>\n",
       "      <td>葡森林火灾造成至少62人死亡 政府宣布进入紧急状态（组图）</td>\n",
       "      <td>http://world.huanqiu.com/hot/2017-06/10866126....</td>\n",
       "      <td>这是 月 18 日 葡萄牙 中部 佩德罗 冈 地区 拍摄 森林 大火 烧毁 汽车 新华社 记...</td>\n",
       "    </tr>\n",
       "    <tr>\n",
       "      <th>4</th>\n",
       "      <td>4</td>\n",
       "      <td>89613</td>\n",
       "      <td>胡淑丽_MN7479</td>\n",
       "      <td>0</td>\n",
       "      <td>（原标题：44岁女子跑深圳约会网友被拒，暴雨中裸身奔走……）\\r\\n@深圳交警微博称：昨日清...</td>\n",
       "      <td>{\"type\":\"新闻\",\"site\":\"网易热门\",\"commentNum\":\"978\",...</td>\n",
       "      <td>44岁女子约网友被拒暴雨中裸奔 交警为其披衣相随</td>\n",
       "      <td>http://news.163.com/17/0618/00/CN617P3Q0001875...</td>\n",
       "      <td>原 标题 44 岁 女子 跑 深圳 约会 网友 拒 暴雨 中 裸身 奔走 深圳 交警 微博称...</td>\n",
       "    </tr>\n",
       "  </tbody>\n",
       "</table>\n",
       "</div>"
      ],
      "text/plain": [
       "   Unnamed: 0     id      author  source  \\\n",
       "0           0  89617         NaN       0   \n",
       "1           1  89616         NaN       0   \n",
       "2           2  89615         NaN       0   \n",
       "3           3  89614         NaN       1   \n",
       "4           4  89613  胡淑丽_MN7479       0   \n",
       "\n",
       "                                             content  \\\n",
       "0  此外，自本周（6月12日）起，除小米手机6等15款机型外，其余机型已暂停更新发布（含开发版/...   \n",
       "1  骁龙835作为唯一通过Windows 10桌面平台认证的ARM处理器，高通强调，不会因为只考...   \n",
       "2  此前的一加3T搭载的是3400mAh电池，DashCharge快充规格为5V/4A。\\r\\n...   \n",
       "3    这是6月18日在葡萄牙中部大佩德罗冈地区拍摄的被森林大火烧毁的汽车。新华社记者张立云摄\\r\\n   \n",
       "4  （原标题：44岁女子跑深圳约会网友被拒，暴雨中裸身奔走……）\\r\\n@深圳交警微博称：昨日清...   \n",
       "\n",
       "                                             feature  \\\n",
       "0  {\"type\":\"科技\",\"site\":\"cnbeta\",\"commentNum\":\"37\"...   \n",
       "1  {\"type\":\"科技\",\"site\":\"cnbeta\",\"commentNum\":\"15\"...   \n",
       "2  {\"type\":\"科技\",\"site\":\"cnbeta\",\"commentNum\":\"18\"...   \n",
       "3  {\"type\":\"国际新闻\",\"site\":\"环球\",\"commentNum\":\"0\",\"j...   \n",
       "4  {\"type\":\"新闻\",\"site\":\"网易热门\",\"commentNum\":\"978\",...   \n",
       "\n",
       "                           title  \\\n",
       "0           小米MIUI 9首批机型曝光：共计15款   \n",
       "1     骁龙835在Windows 10上的性能表现有望改善   \n",
       "2      一加手机5细节曝光：3300mAh、充半小时用1天   \n",
       "3  葡森林火灾造成至少62人死亡 政府宣布进入紧急状态（组图）   \n",
       "4       44岁女子约网友被拒暴雨中裸奔 交警为其披衣相随   \n",
       "\n",
       "                                                 url  \\\n",
       "0     http://www.cnbeta.com/articles/tech/623597.htm   \n",
       "1     http://www.cnbeta.com/articles/tech/623599.htm   \n",
       "2     http://www.cnbeta.com/articles/tech/623601.htm   \n",
       "3  http://world.huanqiu.com/hot/2017-06/10866126....   \n",
       "4  http://news.163.com/17/0618/00/CN617P3Q0001875...   \n",
       "\n",
       "                                            seg_word  \n",
       "0  本周 月 12 日 小米 手机 15 款 机型 外 机型 暂停 更新 发布 含 开发 版 体...  \n",
       "1  骁龙 835 唯一 Windows 10 桌面 平台 认证 ARM 处理器 高通 性能 屏蔽...  \n",
       "2  此前 一加 3T 搭载 3400mAh 电池 DashCharge 快充 规格 5V 4A ...  \n",
       "3  这是 月 18 日 葡萄牙 中部 佩德罗 冈 地区 拍摄 森林 大火 烧毁 汽车 新华社 记...  \n",
       "4  原 标题 44 岁 女子 跑 深圳 约会 网友 拒 暴雨 中 裸身 奔走 深圳 交警 微博称...  "
      ]
     },
     "execution_count": 15,
     "metadata": {},
     "output_type": "execute_result"
    }
   ],
   "source": [
    "df.head()"
   ]
  },
  {
   "cell_type": "code",
   "execution_count": 17,
   "metadata": {},
   "outputs": [],
   "source": [
    "#new_dropna = df.dropna(axis=0, how='any',subset=['source', 'content'])"
   ]
  },
  {
   "cell_type": "code",
   "execution_count": 41,
   "metadata": {},
   "outputs": [],
   "source": [
    "X = df['seg_word'].astype(str)"
   ]
  },
  {
   "cell_type": "code",
   "execution_count": 32,
   "metadata": {},
   "outputs": [],
   "source": [
    "y = df['source']"
   ]
  },
  {
   "cell_type": "code",
   "execution_count": 42,
   "metadata": {},
   "outputs": [
    {
     "data": {
      "text/plain": [
       "0    本周 月 12 日 小米 手机 15 款 机型 外 机型 暂停 更新 发布 含 开发 版 体...\n",
       "1    骁龙 835 唯一 Windows 10 桌面 平台 认证 ARM 处理器 高通 性能 屏蔽...\n",
       "2    此前 一加 3T 搭载 3400mAh 电池 DashCharge 快充 规格 5V 4A ...\n",
       "3    这是 月 18 日 葡萄牙 中部 佩德罗 冈 地区 拍摄 森林 大火 烧毁 汽车 新华社 记...\n",
       "4    原 标题 44 岁 女子 跑 深圳 约会 网友 拒 暴雨 中 裸身 奔走 深圳 交警 微博称...\n",
       "Name: seg_word, dtype: object"
      ]
     },
     "execution_count": 42,
     "metadata": {},
     "output_type": "execute_result"
    }
   ],
   "source": [
    "X.head()"
   ]
  },
  {
   "cell_type": "code",
   "execution_count": 43,
   "metadata": {},
   "outputs": [
    {
     "name": "stdout",
     "output_type": "stream",
     "text": [
      "Requirement already satisfied: sklearn in e:\\anaconda3\\lib\\site-packages (0.0)\n",
      "Requirement already satisfied: scikit-learn in e:\\anaconda3\\lib\\site-packages (from sklearn) (0.20.1)\n",
      "Requirement already satisfied: numpy>=1.8.2 in e:\\anaconda3\\lib\\site-packages (from scikit-learn->sklearn) (1.15.4)\n",
      "Requirement already satisfied: scipy>=0.13.3 in e:\\anaconda3\\lib\\site-packages (from scikit-learn->sklearn) (1.1.0)\n"
     ]
    }
   ],
   "source": [
    "!pip install sklearn"
   ]
  },
  {
   "cell_type": "code",
   "execution_count": 44,
   "metadata": {},
   "outputs": [],
   "source": [
    "from sklearn.linear_model import LogisticRegression\n",
    "from sklearn.model_selection import train_test_split\n",
    "from sklearn.metrics import precision_score,recall_score,f1_score,roc_auc_score\n",
    "from sklearn.feature_extraction.text import TfidfVectorizer"
   ]
  },
  {
   "cell_type": "code",
   "execution_count": 45,
   "metadata": {},
   "outputs": [],
   "source": [
    "vectorizer = TfidfVectorizer(ngram_range=(1, 3), max_features=300,encoding='gb18030')\n",
    "X = vectorizer.fit_transform(X)\n",
    "X = X.toarray()"
   ]
  },
  {
   "cell_type": "code",
   "execution_count": 46,
   "metadata": {},
   "outputs": [
    {
     "data": {
      "text/plain": [
       "(87052, 300)"
      ]
     },
     "execution_count": 46,
     "metadata": {},
     "output_type": "execute_result"
    }
   ],
   "source": [
    "X.shape"
   ]
  },
  {
   "cell_type": "code",
   "execution_count": 47,
   "metadata": {},
   "outputs": [],
   "source": [
    "X_train, x_test, Y_train, y_test = train_test_split(X, y, random_state=62, test_size=0.15)"
   ]
  },
  {
   "cell_type": "code",
   "execution_count": 48,
   "metadata": {},
   "outputs": [],
   "source": [
    "### KNN"
   ]
  },
  {
   "cell_type": "code",
   "execution_count": 49,
   "metadata": {},
   "outputs": [],
   "source": [
    "from sklearn.neighbors import KNeighborsRegressor,KNeighborsClassifier"
   ]
  },
  {
   "cell_type": "code",
   "execution_count": 51,
   "metadata": {
    "scrolled": true
   },
   "outputs": [
    {
     "data": {
      "text/plain": [
       "KNeighborsClassifier(algorithm='auto', leaf_size=30, metric='minkowski',\n",
       "           metric_params=None, n_jobs=-1, n_neighbors=3, p=2,\n",
       "           weights='uniform')"
      ]
     },
     "execution_count": 51,
     "metadata": {},
     "output_type": "execute_result"
    }
   ],
   "source": [
    "knc = KNeighborsClassifier(n_neighbors=3, n_jobs=-1)\n",
    "knc.fit(X_train, Y_train)"
   ]
  },
  {
   "cell_type": "code",
   "execution_count": 52,
   "metadata": {},
   "outputs": [],
   "source": [
    "y_pred = knc.predict(x_test)  # 返回x_test 的预测labels"
   ]
  },
  {
   "cell_type": "code",
   "execution_count": 53,
   "metadata": {},
   "outputs": [
    {
     "data": {
      "text/plain": [
       "array([1, 1, 1, ..., 1, 1, 1], dtype=int64)"
      ]
     },
     "execution_count": 53,
     "metadata": {},
     "output_type": "execute_result"
    }
   ],
   "source": [
    "y_pred"
   ]
  },
  {
   "cell_type": "code",
   "execution_count": 54,
   "metadata": {},
   "outputs": [],
   "source": [
    "y_pred_prob = knc.predict_proba(x_test) # 预测属于标签0或1的概率"
   ]
  },
  {
   "cell_type": "code",
   "execution_count": 55,
   "metadata": {},
   "outputs": [
    {
     "data": {
      "text/plain": [
       "array([[0.        , 1.        ],\n",
       "       [0.        , 1.        ],\n",
       "       [0.        , 1.        ],\n",
       "       ...,\n",
       "       [0.        , 1.        ],\n",
       "       [0.33333333, 0.66666667],\n",
       "       [0.        , 1.        ]])"
      ]
     },
     "execution_count": 55,
     "metadata": {},
     "output_type": "execute_result"
    }
   ],
   "source": [
    "y_pred_prob   "
   ]
  },
  {
   "cell_type": "code",
   "execution_count": 56,
   "metadata": {},
   "outputs": [],
   "source": [
    "score = knc.score(x_test, y_test)\n",
    "precision_sc = precision_score(y_test, y_pred)\n",
    "recall_sc = recall_score(y_test, y_pred)\n",
    "f1_sc = f1_score(y_test, y_pred)\n",
    "roc_auc_sc = roc_auc_score(y_test, y_pred_prob[:, 1])"
   ]
  },
  {
   "cell_type": "code",
   "execution_count": 58,
   "metadata": {},
   "outputs": [
    {
     "data": {
      "text/plain": [
       "0.9346760606524736"
      ]
     },
     "execution_count": 58,
     "metadata": {},
     "output_type": "execute_result"
    }
   ],
   "source": [
    "score      #预测在确切知道数据和标签的情况下 测试准确度"
   ]
  },
  {
   "cell_type": "code",
   "execution_count": 59,
   "metadata": {},
   "outputs": [
    {
     "data": {
      "text/plain": [
       "0.9534672286965865"
      ]
     },
     "execution_count": 59,
     "metadata": {},
     "output_type": "execute_result"
    }
   ],
   "source": [
    "precision_sc    # 预测数据标签为1 的准确率"
   ]
  },
  {
   "cell_type": "code",
   "execution_count": 60,
   "metadata": {},
   "outputs": [
    {
     "data": {
      "text/plain": [
       "0.9754777608658887"
      ]
     },
     "execution_count": 60,
     "metadata": {},
     "output_type": "execute_result"
    }
   ],
   "source": [
    "recall_sc      #预测数据标签为1 的召回率"
   ]
  },
  {
   "cell_type": "code",
   "execution_count": 61,
   "metadata": {},
   "outputs": [
    {
     "data": {
      "text/plain": [
       "0.9643469174503657"
      ]
     },
     "execution_count": 61,
     "metadata": {},
     "output_type": "execute_result"
    }
   ],
   "source": [
    "f1_sc          #为了平衡recall和precision评价标准其值为  recall和precision的调和平均数"
   ]
  },
  {
   "cell_type": "code",
   "execution_count": 62,
   "metadata": {},
   "outputs": [
    {
     "data": {
      "text/plain": [
       "0.8793432805989884"
      ]
     },
     "execution_count": 62,
     "metadata": {},
     "output_type": "execute_result"
    }
   ],
   "source": [
    "roc_auc_sc     # auc 预测的正例排在负例前面的概率"
   ]
  },
  {
   "cell_type": "code",
   "execution_count": null,
   "metadata": {},
   "outputs": [],
   "source": [
    " # n_neighbors = 5 "
   ]
  },
  {
   "cell_type": "code",
   "execution_count": 63,
   "metadata": {},
   "outputs": [],
   "source": [
    "knc = KNeighborsClassifier(n_neighbors=5, n_jobs=-1)\n",
    "knc.fit(X_train, Y_train)\n",
    "y_pred = knc.predict(x_test)\n",
    "y_pred_prob = knc.predict_proba(x_test)"
   ]
  },
  {
   "cell_type": "code",
   "execution_count": 64,
   "metadata": {},
   "outputs": [],
   "source": [
    "score = knc.score(x_test, y_test)\n",
    "precision_sc = precision_score(y_test, y_pred)\n",
    "recall_sc = recall_score(y_test, y_pred)\n",
    "f1_sc = f1_score(y_test, y_pred)\n",
    "roc_auc_sc = roc_auc_score(y_test, y_pred_prob[:, 1])"
   ]
  },
  {
   "cell_type": "code",
   "execution_count": 65,
   "metadata": {},
   "outputs": [
    {
     "data": {
      "text/plain": [
       "0.9311533159748813"
      ]
     },
     "execution_count": 65,
     "metadata": {},
     "output_type": "execute_result"
    }
   ],
   "source": [
    "score"
   ]
  },
  {
   "cell_type": "code",
   "execution_count": 66,
   "metadata": {},
   "outputs": [
    {
     "data": {
      "text/plain": [
       "0.949707794880237"
      ]
     },
     "execution_count": 66,
     "metadata": {},
     "output_type": "execute_result"
    }
   ],
   "source": [
    "precision_sc"
   ]
  },
  {
   "cell_type": "code",
   "execution_count": 67,
   "metadata": {},
   "outputs": [
    {
     "data": {
      "text/plain": [
       "0.9756468797564688"
      ]
     },
     "execution_count": 67,
     "metadata": {},
     "output_type": "execute_result"
    }
   ],
   "source": [
    "recall_sc"
   ]
  },
  {
   "cell_type": "code",
   "execution_count": 68,
   "metadata": {},
   "outputs": [
    {
     "data": {
      "text/plain": [
       "0.9625026068821689"
      ]
     },
     "execution_count": 68,
     "metadata": {},
     "output_type": "execute_result"
    }
   ],
   "source": [
    "f1_sc"
   ]
  },
  {
   "cell_type": "code",
   "execution_count": 69,
   "metadata": {},
   "outputs": [
    {
     "data": {
      "text/plain": [
       "0.9063640042521321"
      ]
     },
     "execution_count": 69,
     "metadata": {},
     "output_type": "execute_result"
    }
   ],
   "source": [
    "roc_auc_sc"
   ]
  },
  {
   "cell_type": "code",
   "execution_count": null,
   "metadata": {},
   "outputs": [],
   "source": [
    "### n_neighbors = 5 其他参数不变  f1和auc 明显增大"
   ]
  },
  {
   "cell_type": "code",
   "execution_count": null,
   "metadata": {},
   "outputs": [],
   "source": [
    "#增加距离权重"
   ]
  },
  {
   "cell_type": "code",
   "execution_count": 70,
   "metadata": {},
   "outputs": [],
   "source": [
    "knc = KNeighborsClassifier(n_neighbors=5, n_jobs=-1,weights='distance')\n",
    "knc.fit(X_train, Y_train)\n",
    "y_pred = knc.predict(x_test)\n",
    "y_pred_prob = knc.predict_proba(x_test)"
   ]
  },
  {
   "cell_type": "code",
   "execution_count": 71,
   "metadata": {},
   "outputs": [],
   "source": [
    "score = knc.score(x_test, y_test)\n",
    "precision_sc = precision_score(y_test, y_pred)\n",
    "recall_sc = recall_score(y_test, y_pred)\n",
    "f1_sc = f1_score(y_test, y_pred)\n",
    "roc_auc_sc = roc_auc_score(y_test, y_pred_prob[:, 1])"
   ]
  },
  {
   "cell_type": "code",
   "execution_count": null,
   "metadata": {},
   "outputs": [],
   "source": []
  },
  {
   "cell_type": "code",
   "execution_count": 72,
   "metadata": {},
   "outputs": [
    {
     "data": {
      "text/plain": [
       "0.9367437586154082"
      ]
     },
     "execution_count": 72,
     "metadata": {},
     "output_type": "execute_result"
    }
   ],
   "source": [
    "score"
   ]
  },
  {
   "cell_type": "code",
   "execution_count": 73,
   "metadata": {},
   "outputs": [
    {
     "data": {
      "text/plain": [
       "0.9526003949967083"
      ]
     },
     "execution_count": 73,
     "metadata": {},
     "output_type": "execute_result"
    }
   ],
   "source": [
    "precision_sc"
   ]
  },
  {
   "cell_type": "code",
   "execution_count": 74,
   "metadata": {},
   "outputs": [
    {
     "data": {
      "text/plain": [
       "0.9788601386774902"
      ]
     },
     "execution_count": 74,
     "metadata": {},
     "output_type": "execute_result"
    }
   ],
   "source": [
    "recall_sc"
   ]
  },
  {
   "cell_type": "code",
   "execution_count": 75,
   "metadata": {},
   "outputs": [
    {
     "data": {
      "text/plain": [
       "0.9655517557761282"
      ]
     },
     "execution_count": 75,
     "metadata": {},
     "output_type": "execute_result"
    }
   ],
   "source": [
    "f1_sc"
   ]
  },
  {
   "cell_type": "code",
   "execution_count": 76,
   "metadata": {},
   "outputs": [
    {
     "data": {
      "text/plain": [
       "0.9154769660620117"
      ]
     },
     "execution_count": 76,
     "metadata": {},
     "output_type": "execute_result"
    }
   ],
   "source": [
    "roc_auc_sc"
   ]
  },
  {
   "cell_type": "code",
   "execution_count": null,
   "metadata": {},
   "outputs": [],
   "source": [
    "#权重变为距离  所有值都有小幅的提高"
   ]
  },
  {
   "cell_type": "code",
   "execution_count": null,
   "metadata": {},
   "outputs": [],
   "source": [
    "###leaf_size 由默认值变为50"
   ]
  },
  {
   "cell_type": "code",
   "execution_count": 77,
   "metadata": {},
   "outputs": [],
   "source": [
    "knc = KNeighborsClassifier(n_neighbors=5, n_jobs=-1,weights='distance',leaf_size=50)\n",
    "knc.fit(X_train, Y_train)\n",
    "y_pred = knc.predict(x_test)\n",
    "y_pred_prob = knc.predict_proba(x_test)"
   ]
  },
  {
   "cell_type": "code",
   "execution_count": 78,
   "metadata": {},
   "outputs": [],
   "source": [
    "score = knc.score(x_test, y_test)\n",
    "precision_sc = precision_score(y_test, y_pred)\n",
    "recall_sc = recall_score(y_test, y_pred)\n",
    "f1_sc = f1_score(y_test, y_pred)\n",
    "roc_auc_sc = roc_auc_score(y_test, y_pred_prob[:, 1])"
   ]
  },
  {
   "cell_type": "code",
   "execution_count": 79,
   "metadata": {},
   "outputs": [
    {
     "data": {
      "text/plain": [
       "0.936973502833512"
      ]
     },
     "execution_count": 79,
     "metadata": {},
     "output_type": "execute_result"
    }
   ],
   "source": [
    "score"
   ]
  },
  {
   "cell_type": "code",
   "execution_count": 80,
   "metadata": {},
   "outputs": [
    {
     "data": {
      "text/plain": [
       "0.9528356243312207"
      ]
     },
     "execution_count": 80,
     "metadata": {},
     "output_type": "execute_result"
    }
   ],
   "source": [
    "precision_sc"
   ]
  },
  {
   "cell_type": "code",
   "execution_count": 81,
   "metadata": {},
   "outputs": [
    {
     "data": {
      "text/plain": [
       "0.9788601386774902"
      ]
     },
     "execution_count": 81,
     "metadata": {},
     "output_type": "execute_result"
    }
   ],
   "source": [
    "recall_sc"
   ]
  },
  {
   "cell_type": "code",
   "execution_count": 82,
   "metadata": {},
   "outputs": [
    {
     "data": {
      "text/plain": [
       "0.965672575599583"
      ]
     },
     "execution_count": 82,
     "metadata": {},
     "output_type": "execute_result"
    }
   ],
   "source": [
    "f1_sc"
   ]
  },
  {
   "cell_type": "code",
   "execution_count": 83,
   "metadata": {},
   "outputs": [
    {
     "data": {
      "text/plain": [
       "0.9150939090294113"
      ]
     },
     "execution_count": 83,
     "metadata": {},
     "output_type": "execute_result"
    }
   ],
   "source": [
    "roc_auc_sc"
   ]
  },
  {
   "cell_type": "code",
   "execution_count": null,
   "metadata": {},
   "outputs": [],
   "source": [
    "# f1和pecosion 有小幅提高，auc小幅降低"
   ]
  },
  {
   "cell_type": "code",
   "execution_count": null,
   "metadata": {},
   "outputs": [],
   "source": [
    "# 增大leaf_size为70"
   ]
  },
  {
   "cell_type": "code",
   "execution_count": 86,
   "metadata": {},
   "outputs": [],
   "source": [
    "knc = KNeighborsClassifier(n_neighbors=5, n_jobs=-1,weights='distance',leaf_size=70)\n",
    "knc.fit(X_train, Y_train)\n",
    "y_pred = knc.predict(x_test)\n",
    "y_pred_prob = knc.predict_proba(x_test)"
   ]
  },
  {
   "cell_type": "code",
   "execution_count": 87,
   "metadata": {},
   "outputs": [],
   "source": [
    "score = knc.score(x_test, y_test)\n",
    "precision_sc = precision_score(y_test, y_pred)\n",
    "recall_sc = recall_score(y_test, y_pred)\n",
    "f1_sc = f1_score(y_test, y_pred)\n",
    "roc_auc_sc = roc_auc_score(y_test, y_pred_prob[:, 1])"
   ]
  },
  {
   "cell_type": "code",
   "execution_count": null,
   "metadata": {},
   "outputs": [],
   "source": []
  },
  {
   "cell_type": "code",
   "execution_count": 88,
   "metadata": {},
   "outputs": [
    {
     "data": {
      "text/plain": [
       "0.936973502833512"
      ]
     },
     "execution_count": 88,
     "metadata": {},
     "output_type": "execute_result"
    }
   ],
   "source": [
    "score"
   ]
  },
  {
   "cell_type": "code",
   "execution_count": 89,
   "metadata": {},
   "outputs": [
    {
     "data": {
      "text/plain": [
       "0.9528356243312207"
      ]
     },
     "execution_count": 89,
     "metadata": {},
     "output_type": "execute_result"
    }
   ],
   "source": [
    "precision_sc"
   ]
  },
  {
   "cell_type": "code",
   "execution_count": 90,
   "metadata": {},
   "outputs": [
    {
     "data": {
      "text/plain": [
       "0.9788601386774902"
      ]
     },
     "execution_count": 90,
     "metadata": {},
     "output_type": "execute_result"
    }
   ],
   "source": [
    "recall_sc"
   ]
  },
  {
   "cell_type": "code",
   "execution_count": 91,
   "metadata": {},
   "outputs": [
    {
     "data": {
      "text/plain": [
       "0.965672575599583"
      ]
     },
     "execution_count": 91,
     "metadata": {},
     "output_type": "execute_result"
    }
   ],
   "source": [
    "f1_sc"
   ]
  },
  {
   "cell_type": "code",
   "execution_count": 92,
   "metadata": {},
   "outputs": [
    {
     "data": {
      "text/plain": [
       "0.9150939090294113"
      ]
     },
     "execution_count": 92,
     "metadata": {},
     "output_type": "execute_result"
    }
   ],
   "source": [
    "roc_auc_sc"
   ]
  },
  {
   "cell_type": "code",
   "execution_count": null,
   "metadata": {},
   "outputs": [],
   "source": [
    "#各指标无变化 最终选择 参数 n_neighbors=5,weights='distance',leaf_size=70. 使得各个性能指标波动很微小，切相对为一个最高值，此点为最优的点\n",
    "#之后会继续尝试其他参数"
   ]
  },
  {
   "cell_type": "code",
   "execution_count": null,
   "metadata": {},
   "outputs": [],
   "source": [
    "###找出所以预测为 1， 但是实际为 0 的文章。 作为抄袭的候选者。"
   ]
  },
  {
   "cell_type": "code",
   "execution_count": 99,
   "metadata": {},
   "outputs": [],
   "source": [
    "knc = KNeighborsClassifier(n_neighbors=5, n_jobs=-1,weights='distance',leaf_size=70)\n",
    "knc.fit(X_train, Y_train)\n",
    "y_pred = knc.predict(X)"
   ]
  },
  {
   "cell_type": "code",
   "execution_count": 116,
   "metadata": {},
   "outputs": [
    {
     "data": {
      "text/plain": [
       "87052"
      ]
     },
     "execution_count": 116,
     "metadata": {},
     "output_type": "execute_result"
    }
   ],
   "source": [
    "df['y_pred'] = y_pred\n",
    "df.head()\n",
    "len(df)"
   ]
  },
  {
   "cell_type": "code",
   "execution_count": 117,
   "metadata": {},
   "outputs": [
    {
     "data": {
      "text/plain": [
       "87052"
      ]
     },
     "execution_count": 117,
     "metadata": {},
     "output_type": "execute_result"
    }
   ],
   "source": [
    "len(y_pred)"
   ]
  },
  {
   "cell_type": "code",
   "execution_count": 118,
   "metadata": {},
   "outputs": [
    {
     "data": {
      "text/html": [
       "<div>\n",
       "<style scoped>\n",
       "    .dataframe tbody tr th:only-of-type {\n",
       "        vertical-align: middle;\n",
       "    }\n",
       "\n",
       "    .dataframe tbody tr th {\n",
       "        vertical-align: top;\n",
       "    }\n",
       "\n",
       "    .dataframe thead th {\n",
       "        text-align: right;\n",
       "    }\n",
       "</style>\n",
       "<table border=\"1\" class=\"dataframe\">\n",
       "  <thead>\n",
       "    <tr style=\"text-align: right;\">\n",
       "      <th></th>\n",
       "      <th>Unnamed: 0</th>\n",
       "      <th>id</th>\n",
       "      <th>author</th>\n",
       "      <th>source</th>\n",
       "      <th>content</th>\n",
       "      <th>feature</th>\n",
       "      <th>title</th>\n",
       "      <th>url</th>\n",
       "      <th>seg_word</th>\n",
       "      <th>y</th>\n",
       "      <th>y_pred</th>\n",
       "    </tr>\n",
       "  </thead>\n",
       "  <tbody>\n",
       "    <tr>\n",
       "      <th>19</th>\n",
       "      <td>19</td>\n",
       "      <td>89598</td>\n",
       "      <td>周佳 整理</td>\n",
       "      <td>0</td>\n",
       "      <td>提示声明：\\r\\n　　本文涉及的行业及个股分析来源于券商研究报告，仅为分析人士对该行业及...</td>\n",
       "      <td>{\"type\":\"市场\",\"site\":\"中证网\",\"commentNum\":\"0\",\"jo...</td>\n",
       "      <td>机构解析：下周热点板块及个股探秘（附股）</td>\n",
       "      <td>http://www.cs.com.cn/gppd/hyyj/201706/t2017062...</td>\n",
       "      <td>提示 声明 本文 涉及 行业 个股 分析 来源于 券商 研究 报告 仅为 分析 人士 行业 ...</td>\n",
       "      <td>0</td>\n",
       "      <td>1</td>\n",
       "    </tr>\n",
       "    <tr>\n",
       "      <th>31</th>\n",
       "      <td>31</td>\n",
       "      <td>89586</td>\n",
       "      <td>NaN</td>\n",
       "      <td>0</td>\n",
       "      <td>据中国之声《新闻纵横》报道，针对近日日本媒体披露政府或为首相安倍晋三的好友办学“开绿灯”一事...</td>\n",
       "      <td>{\"type\":\"国际新闻\",\"site\":\"环球\",\"commentNum\":\"0\",\"j...</td>\n",
       "      <td>安倍再陷办学丑闻 日内阁府与文科省调查大相径庭</td>\n",
       "      <td>http://world.huanqiu.com/hot/2017-06/10866219....</td>\n",
       "      <td>中国 之声 新闻纵横 报道 近日 日本 媒体 披露 政府 首相 安倍晋三 好友 办学 开绿灯...</td>\n",
       "      <td>0</td>\n",
       "      <td>1</td>\n",
       "    </tr>\n",
       "    <tr>\n",
       "      <th>53</th>\n",
       "      <td>53</td>\n",
       "      <td>89564</td>\n",
       "      <td>NaN</td>\n",
       "      <td>0</td>\n",
       "      <td>央广网贵阳6月19日消息（记者王珩 贵州台记者黄瑾）为规范省级救灾储备物资管理，提高救灾物资...</td>\n",
       "      <td>{\"type\":\"国内新闻\",\"site\":\"环球\",\"commentNum\":\"0\",\"j...</td>\n",
       "      <td>贵州省出台省级救灾储备物资管理办法规定 灾情发生24小时内省级救灾物资须转运至目的地</td>\n",
       "      <td>http://china.huanqiu.com/hot/2017-06/10866404....</td>\n",
       "      <td>央广网 贵阳 月 19 日 消息 记者 王珩 贵州 台 记者 黄瑾 规范 省级 救灾 储备物...</td>\n",
       "      <td>0</td>\n",
       "      <td>1</td>\n",
       "    </tr>\n",
       "    <tr>\n",
       "      <th>92</th>\n",
       "      <td>92</td>\n",
       "      <td>89525</td>\n",
       "      <td>NaN</td>\n",
       "      <td>0</td>\n",
       "      <td>中新网6月23日电 据北京首都国际机场官方微博消息，今日首都机场全天计划保障航班1679架次...</td>\n",
       "      <td>{\"type\":\"国际财经\",\"site\":\"参考消息\",\"commentNum\":\"0\",...</td>\n",
       "      <td>首都机场23日计划保障航班1679架次 已取消389架次</td>\n",
       "      <td>http://www.cankaoxiaoxi.com/finance/20170623/2...</td>\n",
       "      <td>中新网 月 23 日电 北京 首都国际机场 官方 微博 消息 今日 首都机场 全天 计划 保...</td>\n",
       "      <td>0</td>\n",
       "      <td>1</td>\n",
       "    </tr>\n",
       "    <tr>\n",
       "      <th>112</th>\n",
       "      <td>114</td>\n",
       "      <td>89503</td>\n",
       "      <td>NaN</td>\n",
       "      <td>0</td>\n",
       "      <td>点击图片进入下一页\\r\\n中国经济网北京6月23日讯 今日，神州专车获得广州市交委颁发的《网...</td>\n",
       "      <td>{\"type\":\"中国财经\",\"site\":\"参考消息\",\"commentNum\":\"0\",...</td>\n",
       "      <td>神州专车获广州牌照 北上广深凑齐全国已获26张</td>\n",
       "      <td>http://www.cankaoxiaoxi.com/finance/20170623/2...</td>\n",
       "      <td>点击 图片 一页 中国 经济网 北京 月 23 日讯 今日 神州 专车 广州市 交委 颁发 ...</td>\n",
       "      <td>0</td>\n",
       "      <td>1</td>\n",
       "    </tr>\n",
       "  </tbody>\n",
       "</table>\n",
       "</div>"
      ],
      "text/plain": [
       "     Unnamed: 0     id author  source  \\\n",
       "19           19  89598  周佳 整理       0   \n",
       "31           31  89586    NaN       0   \n",
       "53           53  89564    NaN       0   \n",
       "92           92  89525    NaN       0   \n",
       "112         114  89503    NaN       0   \n",
       "\n",
       "                                               content  \\\n",
       "19   　　提示声明：\\r\\n　　本文涉及的行业及个股分析来源于券商研究报告，仅为分析人士对该行业及...   \n",
       "31   据中国之声《新闻纵横》报道，针对近日日本媒体披露政府或为首相安倍晋三的好友办学“开绿灯”一事...   \n",
       "53   央广网贵阳6月19日消息（记者王珩 贵州台记者黄瑾）为规范省级救灾储备物资管理，提高救灾物资...   \n",
       "92   中新网6月23日电 据北京首都国际机场官方微博消息，今日首都机场全天计划保障航班1679架次...   \n",
       "112  点击图片进入下一页\\r\\n中国经济网北京6月23日讯 今日，神州专车获得广州市交委颁发的《网...   \n",
       "\n",
       "                                               feature  \\\n",
       "19   {\"type\":\"市场\",\"site\":\"中证网\",\"commentNum\":\"0\",\"jo...   \n",
       "31   {\"type\":\"国际新闻\",\"site\":\"环球\",\"commentNum\":\"0\",\"j...   \n",
       "53   {\"type\":\"国内新闻\",\"site\":\"环球\",\"commentNum\":\"0\",\"j...   \n",
       "92   {\"type\":\"国际财经\",\"site\":\"参考消息\",\"commentNum\":\"0\",...   \n",
       "112  {\"type\":\"中国财经\",\"site\":\"参考消息\",\"commentNum\":\"0\",...   \n",
       "\n",
       "                                          title  \\\n",
       "19                         机构解析：下周热点板块及个股探秘（附股）   \n",
       "31                      安倍再陷办学丑闻 日内阁府与文科省调查大相径庭   \n",
       "53   贵州省出台省级救灾储备物资管理办法规定 灾情发生24小时内省级救灾物资须转运至目的地   \n",
       "92                 首都机场23日计划保障航班1679架次 已取消389架次   \n",
       "112                     神州专车获广州牌照 北上广深凑齐全国已获26张   \n",
       "\n",
       "                                                   url  \\\n",
       "19   http://www.cs.com.cn/gppd/hyyj/201706/t2017062...   \n",
       "31   http://world.huanqiu.com/hot/2017-06/10866219....   \n",
       "53   http://china.huanqiu.com/hot/2017-06/10866404....   \n",
       "92   http://www.cankaoxiaoxi.com/finance/20170623/2...   \n",
       "112  http://www.cankaoxiaoxi.com/finance/20170623/2...   \n",
       "\n",
       "                                              seg_word  y  y_pred  \n",
       "19   提示 声明 本文 涉及 行业 个股 分析 来源于 券商 研究 报告 仅为 分析 人士 行业 ...  0       1  \n",
       "31   中国 之声 新闻纵横 报道 近日 日本 媒体 披露 政府 首相 安倍晋三 好友 办学 开绿灯...  0       1  \n",
       "53   央广网 贵阳 月 19 日 消息 记者 王珩 贵州 台 记者 黄瑾 规范 省级 救灾 储备物...  0       1  \n",
       "92   中新网 月 23 日电 北京 首都国际机场 官方 微博 消息 今日 首都机场 全天 计划 保...  0       1  \n",
       "112  点击 图片 一页 中国 经济网 北京 月 23 日讯 今日 神州 专车 广州市 交委 颁发 ...  0       1  "
      ]
     },
     "execution_count": 118,
     "metadata": {},
     "output_type": "execute_result"
    }
   ],
   "source": [
    "copy_news =df[(df.source == 0) & (df.y_pred == 1)]\n",
    "copy_news.head()"
   ]
  },
  {
   "cell_type": "code",
   "execution_count": 119,
   "metadata": {},
   "outputs": [
    {
     "data": {
      "text/plain": [
       "11"
      ]
     },
     "execution_count": 119,
     "metadata": {},
     "output_type": "execute_result"
    }
   ],
   "source": [
    "len(set(copy_news))"
   ]
  },
  {
   "cell_type": "markdown",
   "metadata": {},
   "source": [
    "# #什么是数据思维？什么是机器学习思维？\n",
    "数据思维:根据数据驱动问题的解决，了解需求的背后的内容，了解需要哪些数据作为解决问题的核心点，通过数据对数据的量化去解决数据背后的问题\n",
    "机器学习思维：观察数据是否可以通过某种机器学习方式解决，了解问题本质，了解数据。数据通过模型或任何算法的多次得到一个最优解  "
   ]
  },
  {
   "cell_type": "markdown",
   "metadata": {},
   "source": [
    "# # LR"
   ]
  },
  {
   "cell_type": "code",
   "execution_count": 120,
   "metadata": {},
   "outputs": [],
   "source": [
    "clf = LogisticRegression(penalty='l2',solver='lbfgs',max_iter=1000,multi_class='multinomial',tol=1e-5)\n",
    "clf.fit(X_train, Y_train)\n",
    "y_pred_lr = clf.predict(x_test)\n",
    "y_pred_prob_lr = clf.predict_proba(x_test)"
   ]
  },
  {
   "cell_type": "code",
   "execution_count": 122,
   "metadata": {},
   "outputs": [],
   "source": [
    "score_lr = clf.score(x_test, y_test)\n",
    "precision_sc_lr = precision_score(y_test, y_pred_lr)\n",
    "recall_sc_lr = recall_score(y_test, y_pred_lr)\n",
    "f1_sc_lr = f1_score(y_test, y_pred_lr)\n",
    "roc_auc_sc_lr = roc_auc_score(y_test, y_pred_prob_lr[:, 1])"
   ]
  },
  {
   "cell_type": "code",
   "execution_count": 123,
   "metadata": {},
   "outputs": [
    {
     "data": {
      "text/plain": [
       "0.9744983917904733"
      ]
     },
     "execution_count": 123,
     "metadata": {},
     "output_type": "execute_result"
    }
   ],
   "source": [
    "score_lr"
   ]
  },
  {
   "cell_type": "code",
   "execution_count": 124,
   "metadata": {},
   "outputs": [
    {
     "data": {
      "text/plain": [
       "0.9857976160284048"
      ]
     },
     "execution_count": 124,
     "metadata": {},
     "output_type": "execute_result"
    }
   ],
   "source": [
    "precision_sc_lr"
   ]
  },
  {
   "cell_type": "code",
   "execution_count": 125,
   "metadata": {},
   "outputs": [
    {
     "data": {
      "text/plain": [
       "0.9860476915271436"
      ]
     },
     "execution_count": 125,
     "metadata": {},
     "output_type": "execute_result"
    }
   ],
   "source": [
    "recall_sc_lr"
   ]
  },
  {
   "cell_type": "code",
   "execution_count": 126,
   "metadata": {},
   "outputs": [
    {
     "data": {
      "text/plain": [
       "0.9859226379201015"
      ]
     },
     "execution_count": 126,
     "metadata": {},
     "output_type": "execute_result"
    }
   ],
   "source": [
    "f1_sc_lr"
   ]
  },
  {
   "cell_type": "code",
   "execution_count": 127,
   "metadata": {},
   "outputs": [
    {
     "data": {
      "text/plain": [
       "0.9890912138343645"
      ]
     },
     "execution_count": 127,
     "metadata": {},
     "output_type": "execute_result"
    }
   ],
   "source": [
    "roc_auc_sc_lr"
   ]
  },
  {
   "cell_type": "code",
   "execution_count": null,
   "metadata": {},
   "outputs": [],
   "source": [
    "## 更换slove为sag"
   ]
  },
  {
   "cell_type": "code",
   "execution_count": 128,
   "metadata": {},
   "outputs": [],
   "source": [
    "clf = LogisticRegression(penalty='l2',solver='sag',max_iter=1000,multi_class='multinomial',tol=1e-5)\n",
    "clf.fit(X_train, Y_train)\n",
    "y_pred_lr = clf.predict(x_test)\n",
    "y_pred_prob_lr = clf.predict_proba(x_test)"
   ]
  },
  {
   "cell_type": "code",
   "execution_count": 129,
   "metadata": {},
   "outputs": [],
   "source": [
    "score_lr = clf.score(x_test, y_test)\n",
    "precision_sc_lr = precision_score(y_test, y_pred_lr)\n",
    "recall_sc_lr = recall_score(y_test, y_pred_lr)\n",
    "f1_sc_lr = f1_score(y_test, y_pred_lr)\n",
    "roc_auc_sc_lr = roc_auc_score(y_test, y_pred_prob_lr[:, 1])"
   ]
  },
  {
   "cell_type": "code",
   "execution_count": 130,
   "metadata": {},
   "outputs": [
    {
     "data": {
      "text/plain": [
       "0.9744983917904733"
      ]
     },
     "execution_count": 130,
     "metadata": {},
     "output_type": "execute_result"
    }
   ],
   "source": [
    "score_lr"
   ]
  },
  {
   "cell_type": "code",
   "execution_count": 131,
   "metadata": {},
   "outputs": [
    {
     "data": {
      "text/plain": [
       "0.9857976160284048"
      ]
     },
     "execution_count": 131,
     "metadata": {},
     "output_type": "execute_result"
    }
   ],
   "source": [
    "precision_sc_lr"
   ]
  },
  {
   "cell_type": "code",
   "execution_count": 132,
   "metadata": {},
   "outputs": [
    {
     "data": {
      "text/plain": [
       "0.9860476915271436"
      ]
     },
     "execution_count": 132,
     "metadata": {},
     "output_type": "execute_result"
    }
   ],
   "source": [
    "recall_sc_lr"
   ]
  },
  {
   "cell_type": "code",
   "execution_count": 133,
   "metadata": {},
   "outputs": [
    {
     "data": {
      "text/plain": [
       "0.9859226379201015"
      ]
     },
     "execution_count": 133,
     "metadata": {},
     "output_type": "execute_result"
    }
   ],
   "source": [
    "f1_sc_lr "
   ]
  },
  {
   "cell_type": "code",
   "execution_count": 134,
   "metadata": {},
   "outputs": [
    {
     "data": {
      "text/plain": [
       "0.9890912138343646"
      ]
     },
     "execution_count": 134,
     "metadata": {},
     "output_type": "execute_result"
    }
   ],
   "source": [
    "roc_auc_sc_lr"
   ]
  },
  {
   "cell_type": "code",
   "execution_count": null,
   "metadata": {},
   "outputs": [],
   "source": [
    "# 变化很微小，LR 针对于二分类问题，参数的调整变化不大，因为调整截距之类的参数值"
   ]
  },
  {
   "cell_type": "code",
   "execution_count": null,
   "metadata": {},
   "outputs": [],
   "source": []
  }
 ],
 "metadata": {
  "kernelspec": {
   "display_name": "Python 3",
   "language": "python",
   "name": "python3"
  },
  "language_info": {
   "codemirror_mode": {
    "name": "ipython",
    "version": 3
   },
   "file_extension": ".py",
   "mimetype": "text/x-python",
   "name": "python",
   "nbconvert_exporter": "python",
   "pygments_lexer": "ipython3",
   "version": "3.7.1"
  }
 },
 "nbformat": 4,
 "nbformat_minor": 2
}
